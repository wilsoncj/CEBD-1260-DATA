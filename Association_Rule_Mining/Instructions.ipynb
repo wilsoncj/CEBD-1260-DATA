{
 "cells": [
  {
   "cell_type": "markdown",
   "metadata": {},
   "source": [
    "# Association Rule Mining Assignment"
   ]
  },
  {
   "cell_type": "markdown",
   "metadata": {},
   "source": [
    "In this assignment we will be be identifying frequent itemsets from an online retail dataset using the FP-Growth Algorithm in Pyspark.\n",
    "\n",
    "The data can be found on the UCI Machine Learning Repository and is described as \"a transnational data set which contains all the transactions occurring between 01/12/2010 and 09/12/2011 for a UK-based and registered non-store online retail.\"\n",
    "\n",
    "But first, we must download the sample retail data from here and convert the data to .csv. This can be done in by saving as .csv in excel.\n",
    "\n",
    "The .csv should then be placed in the same directory as this jupyter notebook."
   ]
  },
  {
   "cell_type": "markdown",
   "metadata": {},
   "source": [
    "# The following was adapted by code written by Paolo Calderon!"
   ]
  },
  {
   "cell_type": "markdown",
   "metadata": {},
   "source": [
    "After reading in the .csv file, group data by 'InvoiceNo'. For a given 'InvoiceNo', we then concatenate 'StockCode' data and create a .txt file that we use as training data. Due to memory requirements and the size of the \"baskets\" we will only be mining association tasks from the first 5 transactions"
   ]
  },
  {
   "cell_type": "code",
   "execution_count": null,
   "metadata": {
    "collapsed": true
   },
   "outputs": [],
   "source": [
    "import pandas as pd\n",
    "df = pd.read_csv('Online Retail.csv', encoding = \"ISO-8859-1\")\n",
    "s2 =df.groupby('InvoiceNo')['StockCode'].apply(','.join)\n",
    "s2 = s2.reset_index()\n",
    "s2[:5].to_csv('Online Retail.txt', columns = [\"StockCode\"], header=False, index=False)"
   ]
  },
  {
   "cell_type": "markdown",
   "metadata": {},
   "source": [
    "# Answer the following questions using FP-Growth"
   ]
  },
  {
   "cell_type": "markdown",
   "metadata": {},
   "source": [
    "Include code as cells in your answers to show how you found your answers, e.g.,\n",
    "\n",
    "In [  ]: length(frequent_itemsets)\n",
    "\n",
    "...\n",
    "\n",
    "Answer: \n",
    "There are 25 frequent itemsets identified with a minimum support of .5 (The code and answer above are incorrect)"
   ]
  },
  {
   "cell_type": "markdown",
   "metadata": {},
   "source": [
    "1) How many frequent itemsets were found with minimum support of .15?"
   ]
  },
  {
   "cell_type": "markdown",
   "metadata": {},
   "source": [
    "2) How many association rules were identified with a minimum confidence of .4?"
   ]
  },
  {
   "cell_type": "markdown",
   "metadata": {},
   "source": [
    "3) What is the support and confidence of the following association rule: ['21754', '22748'] => ['22745']? Go beyond reporting the values, but include an interpretation of these evaluation metrics."
   ]
  },
  {
   "cell_type": "code",
   "execution_count": null,
   "metadata": {
    "collapsed": true
   },
   "outputs": [],
   "source": []
  }
 ],
 "metadata": {
  "kernelspec": {
   "display_name": "Python 3",
   "language": "python",
   "name": "python3"
  },
  "language_info": {
   "codemirror_mode": {
    "name": "ipython",
    "version": 3
   },
   "file_extension": ".py",
   "mimetype": "text/x-python",
   "name": "python",
   "nbconvert_exporter": "python",
   "pygments_lexer": "ipython3",
   "version": "3.6.3"
  }
 },
 "nbformat": 4,
 "nbformat_minor": 2
}

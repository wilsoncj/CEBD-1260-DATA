{
 "cells": [
  {
   "cell_type": "markdown",
   "metadata": {},
   "source": [
    "# CEBD 1260 Final Programming Assignment"
   ]
  },
  {
   "cell_type": "markdown",
   "metadata": {},
   "source": [
    "Question1\n",
    "Task is to classify data from a cancer diagnostic database"
   ]
  },
  {
   "cell_type": "markdown",
   "metadata": {},
   "source": [
    "The database has patients with tumors, characteristics of those tumors and biopsy results indicating whether the tumor is malignant or bening\n"
   ]
  },
  {
   "cell_type": "markdown",
   "metadata": {},
   "source": [
    "Ten variables are computed for each cell:\n",
    "- radius\n",
    "- texture\n",
    "- perimeter\n",
    "- area\n",
    "- smoothness\n",
    "- compactness\n",
    "- concavity\n",
    "- concave_points\n",
    "- symmetry\n",
    "- fractal_dimension\n",
    "- cancer"
   ]
  },
  {
   "cell_type": "markdown",
   "metadata": {},
   "source": [
    "For this predictive analysis I am following the instructions given for the assignment which are:\n",
    "radius: 14, texture:14, perimeter: 88, area: 566, smoothness: 1, compactness: 0.08, concavity: 0.06, \n",
    "concave_points: 0.04, symmetry: 0.18, and fractal_dimension: 0.05"
   ]
  },
  {
   "cell_type": "code",
   "execution_count": 21,
   "metadata": {},
   "outputs": [],
   "source": [
    "# Load all libraries needed\n",
    "\n",
    "import numpy as np  # linear algebra\n",
    "import pandas as pd # data processing\n",
    "import csv #for opening csv files\n",
    "import matplotlib.pyplot as plt #for plotting graphs\n",
    "from sklearn.linear_model import LogisticRegression #for logistic regression\n",
    "from sklearn.pipeline import Pipeline #to assemble steps for crss validation\n",
    "from sklearn import svm #for Support vector machines\n",
    "from sklearn.neighbors import KNeighborsClassifier"
   ]
  },
  {
   "cell_type": "markdown",
   "metadata": {},
   "source": [
    "# Load Data"
   ]
  },
  {
   "cell_type": "code",
   "execution_count": 22,
   "metadata": {},
   "outputs": [],
   "source": [
    "#Data Import, we are using cancer_data.csv downloaded from moodle\n",
    "#load data\n",
    "dataset = pd.read_csv(\"cancer_data.csv\")"
   ]
  },
  {
   "cell_type": "code",
   "execution_count": 23,
   "metadata": {},
   "outputs": [
    {
     "data": {
      "text/plain": [
       "(569, 11)"
      ]
     },
     "execution_count": 23,
     "metadata": {},
     "output_type": "execute_result"
    }
   ],
   "source": [
    "#to know the number of cases and variables\n",
    "dataset.shape"
   ]
  },
  {
   "cell_type": "markdown",
   "metadata": {},
   "source": [
    "# View Data"
   ]
  },
  {
   "cell_type": "code",
   "execution_count": 25,
   "metadata": {},
   "outputs": [
    {
     "data": {
      "text/html": [
       "<div>\n",
       "<table border=\"1\" class=\"dataframe\">\n",
       "  <thead>\n",
       "    <tr style=\"text-align: right;\">\n",
       "      <th></th>\n",
       "      <th>radius</th>\n",
       "      <th>texture</th>\n",
       "      <th>perimeter</th>\n",
       "      <th>area</th>\n",
       "      <th>smoothness</th>\n",
       "      <th>compactness</th>\n",
       "      <th>concavity</th>\n",
       "      <th>concave_points</th>\n",
       "      <th>symmetry</th>\n",
       "      <th>fractal_dimension</th>\n",
       "      <th>cancer</th>\n",
       "    </tr>\n",
       "  </thead>\n",
       "  <tbody>\n",
       "    <tr>\n",
       "      <th>0</th>\n",
       "      <td>18.0</td>\n",
       "      <td>10.4</td>\n",
       "      <td>123.0</td>\n",
       "      <td>1000.0</td>\n",
       "      <td>0.12</td>\n",
       "      <td>0.28</td>\n",
       "      <td>0.30</td>\n",
       "      <td>0.15</td>\n",
       "      <td>0.24</td>\n",
       "      <td>0.08</td>\n",
       "      <td>0.0</td>\n",
       "    </tr>\n",
       "    <tr>\n",
       "      <th>1</th>\n",
       "      <td>20.6</td>\n",
       "      <td>17.8</td>\n",
       "      <td>133.0</td>\n",
       "      <td>1330.0</td>\n",
       "      <td>0.08</td>\n",
       "      <td>0.08</td>\n",
       "      <td>0.09</td>\n",
       "      <td>0.07</td>\n",
       "      <td>0.18</td>\n",
       "      <td>0.06</td>\n",
       "      <td>0.0</td>\n",
       "    </tr>\n",
       "    <tr>\n",
       "      <th>2</th>\n",
       "      <td>19.7</td>\n",
       "      <td>21.3</td>\n",
       "      <td>130.0</td>\n",
       "      <td>1200.0</td>\n",
       "      <td>0.11</td>\n",
       "      <td>0.16</td>\n",
       "      <td>0.20</td>\n",
       "      <td>0.13</td>\n",
       "      <td>0.21</td>\n",
       "      <td>0.06</td>\n",
       "      <td>0.0</td>\n",
       "    </tr>\n",
       "    <tr>\n",
       "      <th>3</th>\n",
       "      <td>11.4</td>\n",
       "      <td>20.4</td>\n",
       "      <td>77.6</td>\n",
       "      <td>386.0</td>\n",
       "      <td>0.14</td>\n",
       "      <td>0.28</td>\n",
       "      <td>0.24</td>\n",
       "      <td>0.11</td>\n",
       "      <td>0.26</td>\n",
       "      <td>0.10</td>\n",
       "      <td>0.0</td>\n",
       "    </tr>\n",
       "    <tr>\n",
       "      <th>4</th>\n",
       "      <td>20.3</td>\n",
       "      <td>14.3</td>\n",
       "      <td>135.0</td>\n",
       "      <td>1300.0</td>\n",
       "      <td>0.10</td>\n",
       "      <td>0.13</td>\n",
       "      <td>0.20</td>\n",
       "      <td>0.10</td>\n",
       "      <td>0.18</td>\n",
       "      <td>0.06</td>\n",
       "      <td>0.0</td>\n",
       "    </tr>\n",
       "    <tr>\n",
       "      <th>5</th>\n",
       "      <td>12.4</td>\n",
       "      <td>15.7</td>\n",
       "      <td>82.6</td>\n",
       "      <td>477.0</td>\n",
       "      <td>0.13</td>\n",
       "      <td>0.17</td>\n",
       "      <td>0.16</td>\n",
       "      <td>0.08</td>\n",
       "      <td>0.21</td>\n",
       "      <td>0.08</td>\n",
       "      <td>0.0</td>\n",
       "    </tr>\n",
       "    <tr>\n",
       "      <th>6</th>\n",
       "      <td>18.3</td>\n",
       "      <td>20.0</td>\n",
       "      <td>120.0</td>\n",
       "      <td>1040.0</td>\n",
       "      <td>0.09</td>\n",
       "      <td>0.11</td>\n",
       "      <td>0.11</td>\n",
       "      <td>0.07</td>\n",
       "      <td>0.18</td>\n",
       "      <td>0.06</td>\n",
       "      <td>0.0</td>\n",
       "    </tr>\n",
       "    <tr>\n",
       "      <th>7</th>\n",
       "      <td>13.7</td>\n",
       "      <td>20.8</td>\n",
       "      <td>90.2</td>\n",
       "      <td>578.0</td>\n",
       "      <td>0.12</td>\n",
       "      <td>0.17</td>\n",
       "      <td>0.09</td>\n",
       "      <td>0.06</td>\n",
       "      <td>0.22</td>\n",
       "      <td>0.07</td>\n",
       "      <td>0.0</td>\n",
       "    </tr>\n",
       "    <tr>\n",
       "      <th>8</th>\n",
       "      <td>13.0</td>\n",
       "      <td>21.8</td>\n",
       "      <td>87.5</td>\n",
       "      <td>520.0</td>\n",
       "      <td>0.13</td>\n",
       "      <td>0.19</td>\n",
       "      <td>0.19</td>\n",
       "      <td>0.09</td>\n",
       "      <td>0.24</td>\n",
       "      <td>0.07</td>\n",
       "      <td>0.0</td>\n",
       "    </tr>\n",
       "    <tr>\n",
       "      <th>9</th>\n",
       "      <td>12.5</td>\n",
       "      <td>24.0</td>\n",
       "      <td>84.0</td>\n",
       "      <td>476.0</td>\n",
       "      <td>0.12</td>\n",
       "      <td>0.24</td>\n",
       "      <td>0.23</td>\n",
       "      <td>0.09</td>\n",
       "      <td>0.20</td>\n",
       "      <td>0.08</td>\n",
       "      <td>0.0</td>\n",
       "    </tr>\n",
       "  </tbody>\n",
       "</table>\n",
       "</div>"
      ],
      "text/plain": [
       "   radius  texture  perimeter    area  smoothness  compactness  concavity  \\\n",
       "0    18.0     10.4      123.0  1000.0        0.12         0.28       0.30   \n",
       "1    20.6     17.8      133.0  1330.0        0.08         0.08       0.09   \n",
       "2    19.7     21.3      130.0  1200.0        0.11         0.16       0.20   \n",
       "3    11.4     20.4       77.6   386.0        0.14         0.28       0.24   \n",
       "4    20.3     14.3      135.0  1300.0        0.10         0.13       0.20   \n",
       "5    12.4     15.7       82.6   477.0        0.13         0.17       0.16   \n",
       "6    18.3     20.0      120.0  1040.0        0.09         0.11       0.11   \n",
       "7    13.7     20.8       90.2   578.0        0.12         0.17       0.09   \n",
       "8    13.0     21.8       87.5   520.0        0.13         0.19       0.19   \n",
       "9    12.5     24.0       84.0   476.0        0.12         0.24       0.23   \n",
       "\n",
       "   concave_points  symmetry  fractal_dimension  cancer  \n",
       "0            0.15      0.24               0.08     0.0  \n",
       "1            0.07      0.18               0.06     0.0  \n",
       "2            0.13      0.21               0.06     0.0  \n",
       "3            0.11      0.26               0.10     0.0  \n",
       "4            0.10      0.18               0.06     0.0  \n",
       "5            0.08      0.21               0.08     0.0  \n",
       "6            0.07      0.18               0.06     0.0  \n",
       "7            0.06      0.22               0.07     0.0  \n",
       "8            0.09      0.24               0.07     0.0  \n",
       "9            0.09      0.20               0.08     0.0  "
      ]
     },
     "execution_count": 25,
     "metadata": {},
     "output_type": "execute_result"
    }
   ],
   "source": [
    "dataset.head(10)"
   ]
  },
  {
   "cell_type": "code",
   "execution_count": 58,
   "metadata": {},
   "outputs": [
    {
     "name": "stdout",
     "output_type": "stream",
     "text": [
      "['texture', 'perimeter', 'area', 'smoothness', 'compactness', 'concavity', 'concave_points', 'symmetry', 'fractal_dimension']\n"
     ]
    }
   ],
   "source": [
    "#Extract feature columns where everything but the diadnosis is included\n",
    "features = list(dataset.columns[1:10])\n",
    "print(features)"
   ]
  },
  {
   "cell_type": "code",
   "execution_count": 63,
   "metadata": {},
   "outputs": [
    {
     "data": {
      "text/plain": [
       "0    0.0\n",
       "1    0.0\n",
       "2    0.0\n",
       "3    0.0\n",
       "4    0.0\n",
       "Name: cancer, dtype: float64"
      ]
     },
     "execution_count": 63,
     "metadata": {},
     "output_type": "execute_result"
    }
   ],
   "source": [
    "#Our target is to predict the diagnosis in benign or malignant so\n",
    "#we need to extract the dependant variable, the target will be column with 'cancer\n",
    "Y =dataset['cancer']\n",
    "Y.head()"
   ]
  },
  {
   "cell_type": "markdown",
   "metadata": {},
   "source": [
    "# Explore Data"
   ]
  },
  {
   "cell_type": "code",
   "execution_count": 41,
   "metadata": {},
   "outputs": [
    {
     "data": {
      "text/html": [
       "<div>\n",
       "<style>\n",
       "    .dataframe thead tr:only-child th {\n",
       "        text-align: right;\n",
       "    }\n",
       "\n",
       "    .dataframe thead th {\n",
       "        text-align: left;\n",
       "    }\n",
       "\n",
       "    .dataframe tbody tr th {\n",
       "        vertical-align: top;\n",
       "    }\n",
       "</style>\n",
       "<table border=\"1\" class=\"dataframe\">\n",
       "  <thead>\n",
       "    <tr style=\"text-align: right;\">\n",
       "      <th></th>\n",
       "      <th>radius</th>\n",
       "      <th>texture</th>\n",
       "      <th>perimeter</th>\n",
       "      <th>area</th>\n",
       "      <th>smoothness</th>\n",
       "      <th>compactness</th>\n",
       "      <th>concavity</th>\n",
       "      <th>concave_points</th>\n",
       "      <th>symmetry</th>\n",
       "      <th>fractal_dimension</th>\n",
       "      <th>cancer</th>\n",
       "    </tr>\n",
       "  </thead>\n",
       "  <tbody>\n",
       "    <tr>\n",
       "      <th>count</th>\n",
       "      <td>569.000000</td>\n",
       "      <td>569.000000</td>\n",
       "      <td>569.000000</td>\n",
       "      <td>569.000000</td>\n",
       "      <td>569.000000</td>\n",
       "      <td>569.000000</td>\n",
       "      <td>569.000000</td>\n",
       "      <td>569.000000</td>\n",
       "      <td>569.000000</td>\n",
       "      <td>569.000000</td>\n",
       "      <td>569.000000</td>\n",
       "    </tr>\n",
       "    <tr>\n",
       "      <th>mean</th>\n",
       "      <td>14.130685</td>\n",
       "      <td>19.290000</td>\n",
       "      <td>91.977504</td>\n",
       "      <td>654.996485</td>\n",
       "      <td>0.096360</td>\n",
       "      <td>0.104353</td>\n",
       "      <td>0.088798</td>\n",
       "      <td>0.048916</td>\n",
       "      <td>0.181185</td>\n",
       "      <td>0.062797</td>\n",
       "      <td>0.627417</td>\n",
       "    </tr>\n",
       "    <tr>\n",
       "      <th>std</th>\n",
       "      <td>3.523764</td>\n",
       "      <td>4.301011</td>\n",
       "      <td>24.316963</td>\n",
       "      <td>352.036825</td>\n",
       "      <td>0.014066</td>\n",
       "      <td>0.052821</td>\n",
       "      <td>0.079713</td>\n",
       "      <td>0.038793</td>\n",
       "      <td>0.027426</td>\n",
       "      <td>0.007061</td>\n",
       "      <td>0.483918</td>\n",
       "    </tr>\n",
       "    <tr>\n",
       "      <th>min</th>\n",
       "      <td>6.980000</td>\n",
       "      <td>9.710000</td>\n",
       "      <td>43.800000</td>\n",
       "      <td>144.000000</td>\n",
       "      <td>0.052600</td>\n",
       "      <td>0.019400</td>\n",
       "      <td>0.000000</td>\n",
       "      <td>0.000000</td>\n",
       "      <td>0.106000</td>\n",
       "      <td>0.050000</td>\n",
       "      <td>0.000000</td>\n",
       "    </tr>\n",
       "    <tr>\n",
       "      <th>25%</th>\n",
       "      <td>11.700000</td>\n",
       "      <td>16.200000</td>\n",
       "      <td>75.200000</td>\n",
       "      <td>420.000000</td>\n",
       "      <td>0.086400</td>\n",
       "      <td>0.064900</td>\n",
       "      <td>0.029600</td>\n",
       "      <td>0.020300</td>\n",
       "      <td>0.162000</td>\n",
       "      <td>0.057700</td>\n",
       "      <td>0.000000</td>\n",
       "    </tr>\n",
       "    <tr>\n",
       "      <th>50%</th>\n",
       "      <td>13.400000</td>\n",
       "      <td>18.800000</td>\n",
       "      <td>86.200000</td>\n",
       "      <td>551.000000</td>\n",
       "      <td>0.095900</td>\n",
       "      <td>0.092600</td>\n",
       "      <td>0.061500</td>\n",
       "      <td>0.033500</td>\n",
       "      <td>0.179000</td>\n",
       "      <td>0.061500</td>\n",
       "      <td>1.000000</td>\n",
       "    </tr>\n",
       "    <tr>\n",
       "      <th>75%</th>\n",
       "      <td>15.800000</td>\n",
       "      <td>21.800000</td>\n",
       "      <td>104.000000</td>\n",
       "      <td>783.000000</td>\n",
       "      <td>0.105000</td>\n",
       "      <td>0.130000</td>\n",
       "      <td>0.131000</td>\n",
       "      <td>0.074000</td>\n",
       "      <td>0.196000</td>\n",
       "      <td>0.066100</td>\n",
       "      <td>1.000000</td>\n",
       "    </tr>\n",
       "    <tr>\n",
       "      <th>max</th>\n",
       "      <td>28.100000</td>\n",
       "      <td>39.300000</td>\n",
       "      <td>189.000000</td>\n",
       "      <td>2500.000000</td>\n",
       "      <td>0.163000</td>\n",
       "      <td>0.345000</td>\n",
       "      <td>0.427000</td>\n",
       "      <td>0.201000</td>\n",
       "      <td>0.304000</td>\n",
       "      <td>0.097400</td>\n",
       "      <td>1.000000</td>\n",
       "    </tr>\n",
       "  </tbody>\n",
       "</table>\n",
       "</div>"
      ],
      "text/plain": [
       "           radius     texture   perimeter         area  smoothness  \\\n",
       "count  569.000000  569.000000  569.000000   569.000000  569.000000   \n",
       "mean    14.130685   19.290000   91.977504   654.996485    0.096360   \n",
       "std      3.523764    4.301011   24.316963   352.036825    0.014066   \n",
       "min      6.980000    9.710000   43.800000   144.000000    0.052600   \n",
       "25%     11.700000   16.200000   75.200000   420.000000    0.086400   \n",
       "50%     13.400000   18.800000   86.200000   551.000000    0.095900   \n",
       "75%     15.800000   21.800000  104.000000   783.000000    0.105000   \n",
       "max     28.100000   39.300000  189.000000  2500.000000    0.163000   \n",
       "\n",
       "       compactness   concavity  concave_points    symmetry  fractal_dimension  \\\n",
       "count   569.000000  569.000000      569.000000  569.000000         569.000000   \n",
       "mean      0.104353    0.088798        0.048916    0.181185           0.062797   \n",
       "std       0.052821    0.079713        0.038793    0.027426           0.007061   \n",
       "min       0.019400    0.000000        0.000000    0.106000           0.050000   \n",
       "25%       0.064900    0.029600        0.020300    0.162000           0.057700   \n",
       "50%       0.092600    0.061500        0.033500    0.179000           0.061500   \n",
       "75%       0.130000    0.131000        0.074000    0.196000           0.066100   \n",
       "max       0.345000    0.427000        0.201000    0.304000           0.097400   \n",
       "\n",
       "           cancer  \n",
       "count  569.000000  \n",
       "mean     0.627417  \n",
       "std      0.483918  \n",
       "min      0.000000  \n",
       "25%      0.000000  \n",
       "50%      1.000000  \n",
       "75%      1.000000  \n",
       "max      1.000000  "
      ]
     },
     "execution_count": 41,
     "metadata": {},
     "output_type": "execute_result"
    }
   ],
   "source": [
    "dataset.describe() "
   ]
  },
  {
   "cell_type": "markdown",
   "metadata": {},
   "source": [
    "# Split Data to Train/Test Sets"
   ]
  },
  {
   "cell_type": "code",
   "execution_count": 64,
   "metadata": {},
   "outputs": [
    {
     "name": "stdout",
     "output_type": "stream",
     "text": [
      "(381, 10) (381,)\n",
      "(188, 10) (188,)\n"
     ]
    }
   ],
   "source": [
    "# Create train/test sets using the train_test_split function.\n",
    "\n",
    "\n",
    "from sklearn.model_selection import train_test_split\n",
    "\n",
    "array = dataset.values\n",
    "\n",
    "#define the independant vaiables as features\n",
    "features = array[:,1:]\n",
    "\n",
    "#define the target variable as labels\n",
    "labels = array[:,0]\n",
    "\n",
    "\n",
    "#Split data\n",
    "features_train, features_test, labels_train, labels_test = train_test_split(features,\n",
    "                                                                            labels, \n",
    "                                                                            test_size=0.33,\n",
    "                                                                            random_state=42)\n",
    "\n",
    "\n",
    "#Check the split printing the shape of each set\n",
    "print(features_train.shape, labels_train.shape)\n",
    "print(features_test.shape, labels_test.shape)\n"
   ]
  },
  {
   "cell_type": "code",
   "execution_count": null,
   "metadata": {},
   "outputs": [],
   "source": [
    " "
   ]
  }
 ],
 "metadata": {
  "kernelspec": {
   "display_name": "Python 3",
   "language": "python",
   "name": "python3"
  },
  "language_info": {
   "codemirror_mode": {
    "name": "ipython",
    "version": 3
   },
   "file_extension": ".py",
   "mimetype": "text/x-python",
   "name": "python",
   "nbconvert_exporter": "python",
   "pygments_lexer": "ipython3",
   "version": "3.6.3"
  }
 },
 "nbformat": 4,
 "nbformat_minor": 2
}
